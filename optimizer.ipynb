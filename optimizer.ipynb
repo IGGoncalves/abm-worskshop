{
 "cells": [
  {
   "cell_type": "markdown",
   "metadata": {},
   "source": [
    "# Running a multilevel sweep parameter study with PhysiCOOL\n",
    "\n",
    "Now, we will see if we can identify the parameters that generated these results by running a multilevel parameter sweep. We will start at a random point (speed=3.0, bias=0.6) and explore the parameter space. We can choose the number of points per direction that will be explored (points_dir) and the percentage of change per direction in regards to the initial value (percentage_dir). We can also select the number of levels to go through (n_levels)."
   ]
  },
  {
   "cell_type": "code",
   "execution_count": null,
   "metadata": {},
   "outputs": [],
   "source": [
    "%matplotlib notebook\n",
    "from physicool import optimization as opt\n",
    "\n",
    "# Create the multilevel sweep\n",
    "sweeper = opt.MultiLevelSweep(black_box=black_box, \n",
    "                              target_data=target_data, \n",
    "                              n_levels=4,\n",
    "                              points_dir=4, \n",
    "                              percentage_dir=0.7, \n",
    "                              parameters=[\"speed\", \"migration_bias\"])\n",
    "\n",
    "# Be sure that we don't select values that don't make sense to PhysiCell\n",
    "sweeper.param_bounds = [(0.0, None), (0.0, 1.0)]\n",
    "\n",
    "# Run the multilevel sweep\n",
    "sweeper.run_sweep(initial_point=(3.0, 0.6))"
   ]
  }
 ],
 "metadata": {
  "kernelspec": {
   "display_name": "Python 3",
   "language": "python",
   "name": "python3"
  },
  "language_info": {
   "name": "python",
   "version": "3.8.13 (default, Oct  4 2022, 14:00:32) \n[GCC 9.4.0]"
  },
  "orig_nbformat": 4,
  "vscode": {
   "interpreter": {
    "hash": "9ac03a0a6051494cc606d484d27d20fce22fb7b4d169f583271e11d5ba46a56e"
   }
  }
 },
 "nbformat": 4,
 "nbformat_minor": 2
}
