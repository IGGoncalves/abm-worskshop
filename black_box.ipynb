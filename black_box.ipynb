{
 "cells": [
  {
   "cell_type": "markdown",
   "metadata": {},
   "source": [
    "# Cell motility study\n",
    "\n",
    "In this notebook we will go through how we can use PhysiCOOL to test the effect of the cell motility parameters on the cells' trajectories and migration patterns. We will start by creating a simple black box model to run the simulation through Python and then adding other components to extend its functionalities.\n",
    "\n",
    "## Creating the initial cell positions .csv file\n",
    "\n",
    "We want to study the effect of migration parameters (namely the speed and migration_bias). Our PhysiCell model considers cells that are attracted to oxygen and there is an oxygen gradient from y_max to y_min. Thus, we will place the cells close to the y_min wall to then evaluate how much they migrated towards the opposite wall"
   ]
  },
  {
   "cell_type": "code",
   "execution_count": 2,
   "metadata": {},
   "outputs": [],
   "source": [
    "import numpy as np\n",
    "\n",
    "# Creates an array with the cell coordinates and saves it to a csv file.\n",
    "# Cells will be placed in a line (y=-450), in the same z-plane (z=0).\n",
    "cell_definition = 0\n",
    "z_plane = 0\n",
    "y_coordinate = -450\n",
    "x_min = -450\n",
    "x_max = 450\n",
    "x_spacing = 100\n",
    "\n",
    "coords = np.asarray([[x, y_coordinate, z_plane, cell_definition] \n",
    "                     for x in np.arange(x_min, x_max+1, x_spacing)])\n",
    "                     \n",
    "np.savetxt(\"config/cells.csv\", coords, delimiter=\",\")"
   ]
  },
  {
   "cell_type": "markdown",
   "metadata": {},
   "source": [
    "## Setting up the environment\n",
    "\n",
    "We can use PhysiCOOL to compile our project with a Python command and create a black box that can be used to run the PhysiCell model (we must be in the same directory as the simulation files)."
   ]
  },
  {
   "cell_type": "code",
   "execution_count": 3,
   "metadata": {},
   "outputs": [
    {
     "name": "stdout",
     "output_type": "stream",
     "text": [
      "g++ -march=native  -O3 -fomit-frame-pointer -mfpmath=both -fopenmp -m64 -std=c++11  -c ./BioFVM/BioFVM_vector.cpp \n",
      "g++ -march=native  -O3 -fomit-frame-pointer -mfpmath=both -fopenmp -m64 -std=c++11  -c ./BioFVM/BioFVM_mesh.cpp \n",
      "g++ -march=native  -O3 -fomit-frame-pointer -mfpmath=both -fopenmp -m64 -std=c++11  -c ./BioFVM/BioFVM_microenvironment.cpp \n",
      "g++ -march=native  -O3 -fomit-frame-pointer -mfpmath=both -fopenmp -m64 -std=c++11  -c ./BioFVM/BioFVM_solvers.cpp \n",
      "g++ -march=native  -O3 -fomit-frame-pointer -mfpmath=both -fopenmp -m64 -std=c++11  -c ./BioFVM/BioFVM_matlab.cpp\n",
      "g++ -march=native  -O3 -fomit-frame-pointer -mfpmath=both -fopenmp -m64 -std=c++11  -c ./BioFVM/BioFVM_utilities.cpp \n",
      "g++ -march=native  -O3 -fomit-frame-pointer -mfpmath=both -fopenmp -m64 -std=c++11  -c ./BioFVM/BioFVM_basic_agent.cpp \n",
      "g++ -march=native  -O3 -fomit-frame-pointer -mfpmath=both -fopenmp -m64 -std=c++11  -c ./BioFVM/BioFVM_MultiCellDS.cpp\n",
      "g++ -march=native  -O3 -fomit-frame-pointer -mfpmath=both -fopenmp -m64 -std=c++11  -c ./BioFVM/BioFVM_agent_container.cpp \n",
      "g++ -march=native  -O3 -fomit-frame-pointer -mfpmath=both -fopenmp -m64 -std=c++11  -c ./BioFVM/pugixml.cpp\n",
      "g++ -march=native  -O3 -fomit-frame-pointer -mfpmath=both -fopenmp -m64 -std=c++11  -c ./core/PhysiCell_phenotype.cpp\n",
      "g++ -march=native  -O3 -fomit-frame-pointer -mfpmath=both -fopenmp -m64 -std=c++11  -c ./core/PhysiCell_cell_container.cpp \n",
      "g++ -march=native  -O3 -fomit-frame-pointer -mfpmath=both -fopenmp -m64 -std=c++11  -c ./core/PhysiCell_standard_models.cpp \n",
      "g++ -march=native  -O3 -fomit-frame-pointer -mfpmath=both -fopenmp -m64 -std=c++11  -c ./core/PhysiCell_cell.cpp \n",
      "g++ -march=native  -O3 -fomit-frame-pointer -mfpmath=both -fopenmp -m64 -std=c++11  -c ./core/PhysiCell_custom.cpp \n",
      "g++ -march=native  -O3 -fomit-frame-pointer -mfpmath=both -fopenmp -m64 -std=c++11  -c ./core/PhysiCell_utilities.cpp \n",
      "g++ -march=native  -O3 -fomit-frame-pointer -mfpmath=both -fopenmp -m64 -std=c++11  -c ./core/PhysiCell_constants.cpp \n",
      "g++ -march=native  -O3 -fomit-frame-pointer -mfpmath=both -fopenmp -m64 -std=c++11  -c ./core/PhysiCell_basic_signaling.cpp \t\n",
      "g++ -march=native  -O3 -fomit-frame-pointer -mfpmath=both -fopenmp -m64 -std=c++11  -c ./core/PhysiCell_signal_behavior.cpp \n",
      "g++ -march=native  -O3 -fomit-frame-pointer -mfpmath=both -fopenmp -m64 -std=c++11  -c ./modules/PhysiCell_SVG.cpp\n",
      "g++ -march=native  -O3 -fomit-frame-pointer -mfpmath=both -fopenmp -m64 -std=c++11  -c ./modules/PhysiCell_pathology.cpp\n",
      "g++ -march=native  -O3 -fomit-frame-pointer -mfpmath=both -fopenmp -m64 -std=c++11  -c ./modules/PhysiCell_MultiCellDS.cpp\n",
      "g++ -march=native  -O3 -fomit-frame-pointer -mfpmath=both -fopenmp -m64 -std=c++11  -c ./modules/PhysiCell_various_outputs.cpp\n",
      "g++ -march=native  -O3 -fomit-frame-pointer -mfpmath=both -fopenmp -m64 -std=c++11  -c ./modules/PhysiCell_pugixml.cpp\n",
      "g++ -march=native  -O3 -fomit-frame-pointer -mfpmath=both -fopenmp -m64 -std=c++11  -c ./modules/PhysiCell_settings.cpp\n",
      "g++ -march=native  -O3 -fomit-frame-pointer -mfpmath=both -fopenmp -m64 -std=c++11  -c ./modules/PhysiCell_geometry.cpp \n"
     ]
    },
    {
     "name": "stderr",
     "output_type": "stream",
     "text": [
      "./modules/PhysiCell_geometry.cpp: In function ‘bool PhysiCell::load_cells_from_pugixml(pugi::xml_node)’:\n",
      "./modules/PhysiCell_geometry.cpp:304:9: warning: ignoring return value of ‘int system(const char*)’, declared with attribute warn_unused_result [-Wunused-result]\n",
      "  304 |   system(\"sleep 1\");\n",
      "      |   ~~~~~~^~~~~~~~~~~\n"
     ]
    },
    {
     "name": "stdout",
     "output_type": "stream",
     "text": [
      "g++ -march=native  -O3 -fomit-frame-pointer -mfpmath=both -fopenmp -m64 -std=c++11  -c ./custom_modules/custom.cpp\n",
      "g++ -march=native  -O3 -fomit-frame-pointer -mfpmath=both -fopenmp -m64 -std=c++11  -o project BioFVM_vector.o BioFVM_mesh.o BioFVM_microenvironment.o BioFVM_solvers.o BioFVM_matlab.o BioFVM_utilities.o BioFVM_basic_agent.o BioFVM_MultiCellDS.o BioFVM_agent_container.o   pugixml.o PhysiCell_phenotype.o PhysiCell_cell_container.o PhysiCell_standard_models.o PhysiCell_cell.o PhysiCell_custom.o PhysiCell_utilities.o PhysiCell_constants.o PhysiCell_basic_signaling.o PhysiCell_signal_behavior.o  PhysiCell_SVG.o PhysiCell_pathology.o PhysiCell_MultiCellDS.o PhysiCell_various_outputs.o PhysiCell_pugixml.o PhysiCell_settings.o PhysiCell_geometry.o custom.o main.cpp \n"
     ]
    },
    {
     "name": "stderr",
     "output_type": "stream",
     "text": [
      "main.cpp: In function ‘int main(int, char**)’:\n",
      "main.cpp:106:8: warning: ignoring return value of ‘int system(const char*)’, declared with attribute warn_unused_result [-Wunused-result]\n",
      "  106 |  system( copy_command );\n",
      "      |  ~~~~~~^~~~~~~~~~~~~~~~\n"
     ]
    },
    {
     "name": "stdout",
     "output_type": "stream",
     "text": [
      "make name\n",
      "make[1]: Entering directory '/workspace/abm-worskshop'\n",
      "\n",
      "Executable name is project\n",
      "\n",
      "make[1]: Leaving directory '/workspace/abm-worskshop'\n"
     ]
    }
   ],
   "source": [
    "from physicool import optimization as opt\n",
    "\n",
    "# Compiles the project and creates a black box object for it\n",
    "opt.compile_project()    \n",
    "black_box = opt.PhysiCellBlackBox()"
   ]
  },
  {
   "cell_type": "markdown",
   "metadata": {},
   "source": [
    "## Running the model\n",
    "\n",
    "Running a model with the black box is quite easy: we just have to call the run() method. Furthermore, we can choose the number of replicates to be run and whether the output data should be saved (it will be stored in a new folder called temp).\n"
   ]
  },
  {
   "cell_type": "code",
   "execution_count": 4,
   "metadata": {},
   "outputs": [],
   "source": [
    "opt.clean_tmp_files()\n",
    "black_box.run(number_of_replicates=1, keep_files=True)"
   ]
  },
  {
   "cell_type": "markdown",
   "metadata": {},
   "source": [
    "## Plotting the results\n",
    "\n",
    "PhysiCOOL offers functions to extract and plot the cell trajectories both in 3D and 2D."
   ]
  },
  {
   "cell_type": "code",
   "execution_count": 5,
   "metadata": {},
   "outputs": [
    {
     "ename": "ValueError",
     "evalue": "No objects to concatenate",
     "output_type": "error",
     "traceback": [
      "\u001b[0;31m---------------------------------------------------------------------------\u001b[0m",
      "\u001b[0;31mValueError\u001b[0m                                Traceback (most recent call last)",
      "Cell \u001b[0;32mIn [5], line 5\u001b[0m\n\u001b[1;32m      2\u001b[0m \u001b[39mfrom\u001b[39;00m \u001b[39mphysicool\u001b[39;00m\u001b[39m.\u001b[39;00m\u001b[39mprocessing\u001b[39;00m \u001b[39mimport\u001b[39;00m get_cell_trajectories\n\u001b[1;32m      3\u001b[0m \u001b[39mfrom\u001b[39;00m \u001b[39mphysicool\u001b[39;00m\u001b[39m.\u001b[39;00m\u001b[39mplotting\u001b[39;00m \u001b[39mimport\u001b[39;00m plot_trajectories_3d, plot_trajectories_2d\n\u001b[0;32m----> 5\u001b[0m trajectories \u001b[39m=\u001b[39m get_cell_trajectories(\u001b[39m\"\u001b[39m\u001b[39mtemp\u001b[39m\u001b[39m\"\u001b[39m)\n\u001b[1;32m      6\u001b[0m plot_trajectories_3d(trajectories)\n",
      "File \u001b[0;32m/workspace/.pyenv_mirror/user/current/lib/python3.8/site-packages/physicool/processing.py:237\u001b[0m, in \u001b[0;36mget_cell_trajectories\u001b[0;34m(output_path)\u001b[0m\n\u001b[1;32m    234\u001b[0m     cells[\u001b[39m\"\u001b[39m\u001b[39mtimestep\u001b[39m\u001b[39m\"\u001b[39m] \u001b[39m=\u001b[39m i\n\u001b[1;32m    235\u001b[0m     data\u001b[39m.\u001b[39mappend(cells)\n\u001b[0;32m--> 237\u001b[0m new_data \u001b[39m=\u001b[39m pd\u001b[39m.\u001b[39;49mconcat(data)\n\u001b[1;32m    238\u001b[0m trajectories \u001b[39m=\u001b[39m [\n\u001b[1;32m    239\u001b[0m     new_data[new_data[\u001b[39m\"\u001b[39m\u001b[39mID\u001b[39m\u001b[39m\"\u001b[39m] \u001b[39m==\u001b[39m cell_id][[\u001b[39m\"\u001b[39m\u001b[39mposition_x\u001b[39m\u001b[39m\"\u001b[39m, \u001b[39m\"\u001b[39m\u001b[39mposition_y\u001b[39m\u001b[39m\"\u001b[39m, \u001b[39m\"\u001b[39m\u001b[39mposition_z\u001b[39m\u001b[39m\"\u001b[39m]]\n\u001b[1;32m    240\u001b[0m     \u001b[39mfor\u001b[39;00m cell_id \u001b[39min\u001b[39;00m new_data[\u001b[39m\"\u001b[39m\u001b[39mID\u001b[39m\u001b[39m\"\u001b[39m]\u001b[39m.\u001b[39munique()\n\u001b[1;32m    241\u001b[0m ]\n\u001b[1;32m    243\u001b[0m \u001b[39mreturn\u001b[39;00m trajectories\n",
      "File \u001b[0;32m/workspace/.pyenv_mirror/user/current/lib/python3.8/site-packages/pandas/util/_decorators.py:317\u001b[0m, in \u001b[0;36mdeprecate_nonkeyword_arguments.<locals>.decorate.<locals>.wrapper\u001b[0;34m(*args, **kwargs)\u001b[0m\n\u001b[1;32m    311\u001b[0m \u001b[39mif\u001b[39;00m \u001b[39mlen\u001b[39m(args) \u001b[39m>\u001b[39m num_allow_args:\n\u001b[1;32m    312\u001b[0m     warnings\u001b[39m.\u001b[39mwarn(\n\u001b[1;32m    313\u001b[0m         msg\u001b[39m.\u001b[39mformat(arguments\u001b[39m=\u001b[39marguments),\n\u001b[1;32m    314\u001b[0m         \u001b[39mFutureWarning\u001b[39;00m,\n\u001b[1;32m    315\u001b[0m         stacklevel\u001b[39m=\u001b[39mfind_stack_level(inspect\u001b[39m.\u001b[39mcurrentframe()),\n\u001b[1;32m    316\u001b[0m     )\n\u001b[0;32m--> 317\u001b[0m \u001b[39mreturn\u001b[39;00m func(\u001b[39m*\u001b[39;49margs, \u001b[39m*\u001b[39;49m\u001b[39m*\u001b[39;49mkwargs)\n",
      "File \u001b[0;32m/workspace/.pyenv_mirror/user/current/lib/python3.8/site-packages/pandas/core/reshape/concat.py:369\u001b[0m, in \u001b[0;36mconcat\u001b[0;34m(objs, axis, join, ignore_index, keys, levels, names, verify_integrity, sort, copy)\u001b[0m\n\u001b[1;32m    147\u001b[0m \u001b[39m@deprecate_nonkeyword_arguments\u001b[39m(version\u001b[39m=\u001b[39m\u001b[39mNone\u001b[39;00m, allowed_args\u001b[39m=\u001b[39m[\u001b[39m\"\u001b[39m\u001b[39mobjs\u001b[39m\u001b[39m\"\u001b[39m])\n\u001b[1;32m    148\u001b[0m \u001b[39mdef\u001b[39;00m \u001b[39mconcat\u001b[39m(\n\u001b[1;32m    149\u001b[0m     objs: Iterable[NDFrame] \u001b[39m|\u001b[39m Mapping[HashableT, NDFrame],\n\u001b[0;32m   (...)\u001b[0m\n\u001b[1;32m    158\u001b[0m     copy: \u001b[39mbool\u001b[39m \u001b[39m=\u001b[39m \u001b[39mTrue\u001b[39;00m,\n\u001b[1;32m    159\u001b[0m ) \u001b[39m-\u001b[39m\u001b[39m>\u001b[39m DataFrame \u001b[39m|\u001b[39m Series:\n\u001b[1;32m    160\u001b[0m     \u001b[39m\"\"\"\u001b[39;00m\n\u001b[1;32m    161\u001b[0m \u001b[39m    Concatenate pandas objects along a particular axis.\u001b[39;00m\n\u001b[1;32m    162\u001b[0m \n\u001b[0;32m   (...)\u001b[0m\n\u001b[1;32m    367\u001b[0m \u001b[39m    1   3   4\u001b[39;00m\n\u001b[1;32m    368\u001b[0m \u001b[39m    \"\"\"\u001b[39;00m\n\u001b[0;32m--> 369\u001b[0m     op \u001b[39m=\u001b[39m _Concatenator(\n\u001b[1;32m    370\u001b[0m         objs,\n\u001b[1;32m    371\u001b[0m         axis\u001b[39m=\u001b[39;49maxis,\n\u001b[1;32m    372\u001b[0m         ignore_index\u001b[39m=\u001b[39;49mignore_index,\n\u001b[1;32m    373\u001b[0m         join\u001b[39m=\u001b[39;49mjoin,\n\u001b[1;32m    374\u001b[0m         keys\u001b[39m=\u001b[39;49mkeys,\n\u001b[1;32m    375\u001b[0m         levels\u001b[39m=\u001b[39;49mlevels,\n\u001b[1;32m    376\u001b[0m         names\u001b[39m=\u001b[39;49mnames,\n\u001b[1;32m    377\u001b[0m         verify_integrity\u001b[39m=\u001b[39;49mverify_integrity,\n\u001b[1;32m    378\u001b[0m         copy\u001b[39m=\u001b[39;49mcopy,\n\u001b[1;32m    379\u001b[0m         sort\u001b[39m=\u001b[39;49msort,\n\u001b[1;32m    380\u001b[0m     )\n\u001b[1;32m    382\u001b[0m     \u001b[39mreturn\u001b[39;00m op\u001b[39m.\u001b[39mget_result()\n",
      "File \u001b[0;32m/workspace/.pyenv_mirror/user/current/lib/python3.8/site-packages/pandas/core/reshape/concat.py:426\u001b[0m, in \u001b[0;36m_Concatenator.__init__\u001b[0;34m(self, objs, axis, join, keys, levels, names, ignore_index, verify_integrity, copy, sort)\u001b[0m\n\u001b[1;32m    423\u001b[0m     objs \u001b[39m=\u001b[39m \u001b[39mlist\u001b[39m(objs)\n\u001b[1;32m    425\u001b[0m \u001b[39mif\u001b[39;00m \u001b[39mlen\u001b[39m(objs) \u001b[39m==\u001b[39m \u001b[39m0\u001b[39m:\n\u001b[0;32m--> 426\u001b[0m     \u001b[39mraise\u001b[39;00m \u001b[39mValueError\u001b[39;00m(\u001b[39m\"\u001b[39m\u001b[39mNo objects to concatenate\u001b[39m\u001b[39m\"\u001b[39m)\n\u001b[1;32m    428\u001b[0m \u001b[39mif\u001b[39;00m keys \u001b[39mis\u001b[39;00m \u001b[39mNone\u001b[39;00m:\n\u001b[1;32m    429\u001b[0m     objs \u001b[39m=\u001b[39m \u001b[39mlist\u001b[39m(com\u001b[39m.\u001b[39mnot_none(\u001b[39m*\u001b[39mobjs))\n",
      "\u001b[0;31mValueError\u001b[0m: No objects to concatenate"
     ]
    }
   ],
   "source": [
    "%matplotlib notebook\n",
    "from physicool.processing import get_cell_trajectories\n",
    "from physicool.plotting import plot_trajectories_3d, plot_trajectories_2d\n",
    "\n",
    "trajectories = get_cell_trajectories(\"temp\")\n",
    "plot_trajectories_3d(trajectories)"
   ]
  },
  {
   "cell_type": "markdown",
   "metadata": {},
   "source": [
    "## Adding a params updater to the black box\n",
    "\n",
    "We can add a ParamsUpdater instance to our black box to update the XML file with new parameter values before the simulation is run.\n"
   ]
  },
  {
   "cell_type": "code",
   "execution_count": 6,
   "metadata": {},
   "outputs": [],
   "source": [
    "from physicool.updaters import CellUpdater, update_motility_values\n",
    "\n",
    "# Define the updater we want to use (change motility data)\n",
    "new_values = {\"speed\": 5.0, \"migration_bias\": 1.0}\n",
    "updater = CellUpdater(updater_function=update_motility_values,\n",
    "                     config_path=\"config/PhysiCell_settings.xml\", cell_definition_name=\"default\")\n",
    "\n",
    "# Assign the updater to the black box\n",
    "black_box.updater = updater\n",
    "\n",
    "# Run the model with the new values\n",
    "opt.clean_tmp_files()\n",
    "black_box.run(params=new_values)"
   ]
  },
  {
   "cell_type": "code",
   "execution_count": null,
   "metadata": {},
   "outputs": [],
   "source": [
    "# Plot the trajectories\n",
    "trajectories = get_cell_trajectories(\"temp\")\n",
    "plot_trajectories_3d(trajectories)"
   ]
  },
  {
   "cell_type": "markdown",
   "metadata": {},
   "source": [
    "## Adding a processing routine to extract the final positions\n",
    "\n",
    "We can also add a OutputProcessor instance to extract and quantify data from our output files. In this case, we are interested in getting the y coordinates for the last time point, to assess how close the cells are at the end of the simulation to the y_max wall (oxygen source)."
   ]
  },
  {
   "cell_type": "code",
   "execution_count": 7,
   "metadata": {},
   "outputs": [
    {
     "ename": "ValueError",
     "evalue": "The passed time point does not match any file.",
     "output_type": "error",
     "traceback": [
      "\u001b[0;31m---------------------------------------------------------------------------\u001b[0m",
      "\u001b[0;31mValueError\u001b[0m                                Traceback (most recent call last)",
      "Cell \u001b[0;32mIn [7], line 5\u001b[0m\n\u001b[1;32m      3\u001b[0m opt\u001b[39m.\u001b[39mclean_tmp_files()\n\u001b[1;32m      4\u001b[0m black_box\u001b[39m.\u001b[39mprocessor \u001b[39m=\u001b[39m get_final_y_position\n\u001b[0;32m----> 5\u001b[0m final_positions \u001b[39m=\u001b[39m black_box\u001b[39m.\u001b[39mrun(new_values)\n\u001b[1;32m      7\u001b[0m \u001b[39mprint\u001b[39m(\u001b[39m\"\u001b[39m\u001b[39m\\n\u001b[39;00m\u001b[39m\\n\u001b[39;00m\u001b[39m Cell final positions:\u001b[39m\u001b[39m\"\u001b[39m)\n\u001b[1;32m      8\u001b[0m \u001b[39mprint\u001b[39m(final_positions)\n",
      "File \u001b[0;32m/workspace/.pyenv_mirror/user/current/lib/python3.8/site-packages/physicool/optimization.py:130\u001b[0m, in \u001b[0;36mPhysiCellBlackBox.run\u001b[0;34m(self, params, number_of_replicates, keep_files)\u001b[0m\n\u001b[1;32m    127\u001b[0m subprocess\u001b[39m.\u001b[39mrun(\u001b[39mself\u001b[39m\u001b[39m.\u001b[39mproject_command, shell\u001b[39m=\u001b[39m\u001b[39mTrue\u001b[39;00m, stdout\u001b[39m=\u001b[39msubprocess\u001b[39m.\u001b[39mDEVNULL)\n\u001b[1;32m    129\u001b[0m \u001b[39mif\u001b[39;00m \u001b[39mself\u001b[39m\u001b[39m.\u001b[39mprocessor:\n\u001b[0;32m--> 130\u001b[0m     output_metrics\u001b[39m.\u001b[39mappend(\u001b[39mself\u001b[39;49m\u001b[39m.\u001b[39;49mprocessor(Path(\u001b[39m\"\u001b[39;49m\u001b[39moutput\u001b[39;49m\u001b[39m\"\u001b[39;49m)))\n\u001b[1;32m    132\u001b[0m \u001b[39mif\u001b[39;00m keep_files:\n\u001b[1;32m    133\u001b[0m     copy_tree(\u001b[39m\"\u001b[39m\u001b[39moutput\u001b[39m\u001b[39m\"\u001b[39m, storage_folder)\n",
      "File \u001b[0;32m/workspace/.pyenv_mirror/user/current/lib/python3.8/site-packages/physicool/processing.py:296\u001b[0m, in \u001b[0;36mget_final_y_position\u001b[0;34m(output_path)\u001b[0m\n\u001b[1;32m    294\u001b[0m pattern \u001b[39m=\u001b[39m \u001b[39m\"\u001b[39m\u001b[39moutput*_cells_physicell.mat\u001b[39m\u001b[39m\"\u001b[39m\n\u001b[1;32m    295\u001b[0m last_point \u001b[39m=\u001b[39m \u001b[39mlen\u001b[39m([file \u001b[39mfor\u001b[39;00m file \u001b[39min\u001b[39;00m output_path\u001b[39m.\u001b[39mglob(pattern)])\n\u001b[0;32m--> 296\u001b[0m cells \u001b[39m=\u001b[39m get_cell_data(\n\u001b[1;32m    297\u001b[0m     timestep\u001b[39m=\u001b[39;49mlast_point \u001b[39m-\u001b[39;49m \u001b[39m1\u001b[39;49m, variables\u001b[39m=\u001b[39;49m[\u001b[39m\"\u001b[39;49m\u001b[39mposition_y\u001b[39;49m\u001b[39m\"\u001b[39;49m], output_path\u001b[39m=\u001b[39;49moutput_path\n\u001b[1;32m    298\u001b[0m )\n\u001b[1;32m    300\u001b[0m \u001b[39mreturn\u001b[39;00m cells[\u001b[39m\"\u001b[39m\u001b[39mposition_y\u001b[39m\u001b[39m\"\u001b[39m]\u001b[39m.\u001b[39mvalues\n",
      "File \u001b[0;32m/workspace/.pyenv_mirror/user/current/lib/python3.8/site-packages/physicool/processing.py:168\u001b[0m, in \u001b[0;36mget_cell_data\u001b[0;34m(timestep, variables, output_path)\u001b[0m\n\u001b[1;32m    166\u001b[0m \u001b[39m# Make sure that the timestep has been recorded and saved\u001b[39;00m\n\u001b[1;32m    167\u001b[0m \u001b[39mif\u001b[39;00m path_name \u001b[39mnot\u001b[39;00m \u001b[39min\u001b[39;00m output_path\u001b[39m.\u001b[39mglob(\u001b[39m\"\u001b[39m\u001b[39moutput*_cells_physicell.mat\u001b[39m\u001b[39m\"\u001b[39m):\n\u001b[0;32m--> 168\u001b[0m     \u001b[39mraise\u001b[39;00m \u001b[39mValueError\u001b[39;00m(\u001b[39m\"\u001b[39m\u001b[39mThe passed time point does not match any file.\u001b[39m\u001b[39m\"\u001b[39m)\n\u001b[1;32m    170\u001b[0m \u001b[39m# Read output file into a DataFrame\u001b[39;00m\n\u001b[1;32m    171\u001b[0m \u001b[39m# (changing Path to a string with its absolute path. loadmat takes strings as input)\u001b[39;00m\n\u001b[1;32m    172\u001b[0m cells \u001b[39m=\u001b[39m read_mat_file_cells(\n\u001b[1;32m    173\u001b[0m     path\u001b[39m=\u001b[39mpath_name\u001b[39m.\u001b[39mabsolute()\u001b[39m.\u001b[39mas_posix(), variables\u001b[39m=\u001b[39mvariables\n\u001b[1;32m    174\u001b[0m )\n",
      "\u001b[0;31mValueError\u001b[0m: The passed time point does not match any file."
     ]
    }
   ],
   "source": [
    "from physicool.processing import get_final_y_position\n",
    "\n",
    "opt.clean_tmp_files()\n",
    "black_box.processor = get_final_y_position\n",
    "final_positions = black_box.run(new_values)\n",
    "\n",
    "print(\"\\n\\n Cell final positions:\")\n",
    "print(final_positions)"
   ]
  }
 ],
 "metadata": {
  "kernelspec": {
   "display_name": "Python 3",
   "language": "python",
   "name": "python3"
  },
  "language_info": {
   "codemirror_mode": {
    "name": "ipython",
    "version": 3
   },
   "file_extension": ".py",
   "mimetype": "text/x-python",
   "name": "python",
   "nbconvert_exporter": "python",
   "pygments_lexer": "ipython3",
   "version": "3.8.13"
  },
  "orig_nbformat": 4,
  "vscode": {
   "interpreter": {
    "hash": "9ac03a0a6051494cc606d484d27d20fce22fb7b4d169f583271e11d5ba46a56e"
   }
  }
 },
 "nbformat": 4,
 "nbformat_minor": 2
}
